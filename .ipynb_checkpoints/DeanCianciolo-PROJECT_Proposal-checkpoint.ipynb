{
 "cells": [
  {
   "attachments": {},
   "cell_type": "markdown",
   "metadata": {},
   "source": [
    "# Parallelizing Tau Matching Algorithms\n",
    "\n",
    "By Dean Cianciolo\n",
    "\n",
    "&#9989; Replace the following with a picture that \"defines\" your project.  This could be software logo, an expected outcome of your project, or a graphical representation of the research area. \n",
    "\n",
    "<img alt=\"ATLAS detector\" src=\"https://bpb-us-e2.wpmucdn.com/sites.uci.edu/dist/c/442/files/2012/11/atlas-view-2.jpg\" width=\"80%\">\n",
    "\n",
    "Image from: [https://bpb-us-e2.wpmucdn.com/sites.uci.edu/dist/c/442/files/2012/11/atlas-view-2.jpg](https://bpb-us-e2.wpmucdn.com/sites.uci.edu/dist/c/442/files/2012/11/atlas-view-2.jpg)"
   ]
  },
  {
   "cell_type": "markdown",
   "metadata": {},
   "source": [
    "---\n",
    "### Abstract\n",
    "\n",
    "&#9989;  My semester project will take place in the area of physics. This area is very important to me because I am a physics major and plan to spend my career doing research in this field. Computation is heavily used in research in this field, including computation supercomputers similar to the HPCC. I currently do research in the field of high energy physics, which extensively uses supercomputers in order to analyze massive amounts of both simulations and measured data from particle detectors. I have written code that takes simulations of taus we make in the ATLAS detector and compares what we would actually measure to what actually would have happened in reality. I do this via the process of spatial matching - I take taus we reconstruct in the detector and see how they match spacially with taus we know occured in simulation. I wish to expand on my matching code in research, as it usually takes a while. Because it runs on a large set of data that is independent of each set, I believe I can parallelize to make it faster and know that I can make my code run on the HPCC. I will benchmark the unparallelized and parallelized versions of the code to make sure this is actually the case.\n"
   ]
  },
  {
   "cell_type": "markdown",
   "metadata": {},
   "source": [
    "----\n",
    "### Schedule\n",
    "&#9989;  provide a schedule for you to complete all of your milestones on time.  Include what you plan to work on each week from now until when the projects are due:\n",
    "\n",
    "\n",
    "* Sunday February 9 - Project Proposal Milestone Due\n",
    "* Sunday Feb 16 - Make sure all software is set up in HPCC\n",
    "* Sunday Feb 23 -  Make sure code runs in HPCC\n",
    "* Sunday March 2 - Project Part 1 Due - make class setup guide\n",
    "* Sunday March 9 - Benchmark code\n",
    "* Sunday March 16 - Begin implementing openMP\n",
    "* Sunday March 23 - Finish openMP implementation; benchmark code\n",
    "* Sunday March 30 - Try to identify bottlenecks or other ways to further speed up code\n",
    "* Sunday April 6 - Extra week in case of delays; if uneeded, further bottleneck solutions.\n",
    "* Sunday April 13 - Final project due? - Finish and submit"
   ]
  },
  {
   "cell_type": "markdown",
   "metadata": {},
   "source": [
    "---\n",
    "### Part 1 Software Exploration\n",
    "\n",
    "&#9989;  I am going to use the C++ programming language with the ROOT framework from CERN. ROOT is a powerful data analysis framework that is used by physicists worldwide, and from limited testing, it appears I can get it set up on the HPCC. I will also be using software that I have begun to write that matches truth to reconstructed taus from simulated physics events. This code is linked below. I will be using ROOT to read data in from TTree files that I use the rucio framework to put on the tier3.\n",
    "\n",
    "Links:\n",
    "ROOT framework: https://root.cern/\n",
    "\n",
    "My code repository that I will be inputting: https://gitlab.cern.ch/dciancio/gep-output-reader\n"
   ]
  },
  {
   "cell_type": "markdown",
   "metadata": {},
   "source": [
    "---\n",
    "### Part 2 Benchmark and Optimization\n",
    "\n",
    "&#9989; As mentioned, the code I am benchmarking is my reco tau to truth tau matching code. This code loops over all events stored in an event file, loops over all of the taus we made in the simulation, spatially matches them to taus we detected in the simulation output. This is useful for indentifying how efficient we are at doing this in real life. However, there are multiple loops - to run over events and taus - that take long amounts of computing time. While the taus loop is dependent on the other outputs of the loop, the events loop isn't - meaning that I can likely parallize it and save runtime. Additionally, the code is in C++ which I know supports openMP. I will know it works when I notice a substantial runtime change when benchmarking - hopefully on the factor of at least 5."
   ]
  }
 ],
 "metadata": {
  "anaconda-cloud": {},
  "kernelspec": {
   "display_name": "Python [conda env:base] *",
   "language": "python",
   "name": "conda-base-py"
  },
  "language_info": {
   "codemirror_mode": {
    "name": "ipython",
    "version": 3
   },
   "file_extension": ".py",
   "mimetype": "text/x-python",
   "name": "python",
   "nbconvert_exporter": "python",
   "pygments_lexer": "ipython3",
   "version": "3.12.7"
  }
 },
 "nbformat": 4,
 "nbformat_minor": 4
}
